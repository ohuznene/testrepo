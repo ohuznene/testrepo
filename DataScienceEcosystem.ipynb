{
 "cells": [
  {
   "cell_type": "markdown",
   "id": "a7e7e1c9",
   "metadata": {},
   "source": [
    "# Data Science Tools and Ecosystem"
   ]
  },
  {
   "cell_type": "markdown",
   "id": "6888c865",
   "metadata": {},
   "source": [
    "Data Science Tools and Ecosystem would be explained briefly in this notebook."
   ]
  },
  {
   "cell_type": "markdown",
   "id": "30ebf381",
   "metadata": {},
   "source": [
    "**Objectives**\n",
    "* Popular languages for Data Science\n",
    "* Commonly used libraries by Data Scientists\n",
    "* Open source tools used in Data Science\n",
    "* Introduction to Jupyter Notebook\n",
    "* About Github"
   ]
  },
  {
   "cell_type": "markdown",
   "id": "409081a8",
   "metadata": {},
   "source": [
    "Some of the popular languages that Data Scientists use are:\n",
    "1. Python \n",
    "2. Java\n",
    "3. SQL\n",
    "4. Julia\n",
    "5. R\n",
    "6. C++"
   ]
  },
  {
   "cell_type": "markdown",
   "id": "284c3d38",
   "metadata": {},
   "source": [
    "Some of the commonly used libraries used by Data Scientists include:\n",
    "1. TensorFlow\n",
    "2. Pandas\n",
    "3. Numpy\n",
    "4. Matplotlib\n",
    "5. Seaborn"
   ]
  },
  {
   "cell_type": "markdown",
   "id": "c710e7a9",
   "metadata": {},
   "source": [
    "|Data Science Tools|\n",
    "---------------------------\n",
    "|Jupyter|\n",
    "|Apache zeppelin|\n",
    "|R studio|"
   ]
  },
  {
   "cell_type": "markdown",
   "id": "b9454348",
   "metadata": {},
   "source": [
    "### Below are a few examples of evaluating arithmetic expressions in Python"
   ]
  },
  {
   "cell_type": "markdown",
   "id": "148c7158",
   "metadata": {},
   "source": [
    "This a simple arithmetic expression to mutiply then add integers;"
   ]
  },
  {
   "cell_type": "code",
   "execution_count": 1,
   "id": "4bb64c18",
   "metadata": {},
   "outputs": [
    {
     "data": {
      "text/plain": [
       "17"
      ]
     },
     "execution_count": 1,
     "metadata": {},
     "output_type": "execute_result"
    }
   ],
   "source": [
    "(3*4)+5"
   ]
  },
  {
   "cell_type": "markdown",
   "id": "fe6b8705",
   "metadata": {},
   "source": [
    "This will convert 200 minutes to hours by diving by 60;"
   ]
  },
  {
   "cell_type": "code",
   "execution_count": 2,
   "id": "88e01633",
   "metadata": {},
   "outputs": [
    {
     "data": {
      "text/plain": [
       "3.3333333333333335"
      ]
     },
     "execution_count": 2,
     "metadata": {},
     "output_type": "execute_result"
    }
   ],
   "source": [
    "200/60"
   ]
  },
  {
   "cell_type": "markdown",
   "id": "3ce4ad84",
   "metadata": {},
   "source": [
    "## Author\n",
    "Ajayi Grace Ohunene"
   ]
  },
  {
   "cell_type": "code",
   "execution_count": null,
   "id": "af5db217",
   "metadata": {},
   "outputs": [],
   "source": []
  }
 ],
 "metadata": {
  "kernelspec": {
   "display_name": "Python 3 (ipykernel)",
   "language": "python",
   "name": "python3"
  },
  "language_info": {
   "codemirror_mode": {
    "name": "ipython",
    "version": 3
   },
   "file_extension": ".py",
   "mimetype": "text/x-python",
   "name": "python",
   "nbconvert_exporter": "python",
   "pygments_lexer": "ipython3",
   "version": "3.10.9"
  }
 },
 "nbformat": 4,
 "nbformat_minor": 5
}
